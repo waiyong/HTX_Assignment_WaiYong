{
 "cells": [
  {
   "cell_type": "code",
   "execution_count": null,
   "metadata": {},
   "outputs": [],
   "source": [
    "from fastapi import FastAPI, File, UploadFile\n",
    "from fastapi.responses import JSONResponse\n",
    "from PIL import Image\n",
    "import torch\n",
    "from torchvision import transforms\n",
    "import io\n",
    "\n",
    "# Load your PyTorch model\n",
    "model_path = \"resnet18_finetuned.pth\"  # Replace with your model's file path\n",
    "model = torch.load(model_path)\n",
    "model.eval()\n",
    "\n",
    "# Define image transformations\n",
    "transform = transforms.Compose([\n",
    "    transforms.Resize((224, 224)),  # Replace with your model's input size\n",
    "    transforms.ToTensor(),\n",
    "    transforms.Normalize(mean=[0.485, 0.456, 0.406], std=[0.229, 0.224, 0.225])\n",
    "])\n",
    "\n",
    "# Initialize FastAPI app\n",
    "app = FastAPI()\n",
    "\n",
    "@app.post(\"/predict/\")\n",
    "async def predict(file: UploadFile = File(...)):\n",
    "    try:\n",
    "        # Read the uploaded image\n",
    "        content = await file.read()\n",
    "        image = Image.open(io.BytesIO(content)).convert(\"RGB\")\n",
    "\n",
    "        # Apply transformations\n",
    "        input_tensor = transform(image).unsqueeze(0)  # Add batch dimension\n",
    "\n",
    "        # Perform prediction\n",
    "        with torch.no_grad():\n",
    "            output = model(input_tensor)\n",
    "            predicted_class = torch.argmax(output, dim=1).item()\n",
    "\n",
    "        # Return prediction result\n",
    "        return {\"predicted_class\": predicted_class}\n",
    "\n",
    "    except Exception as e:\n",
    "        return JSONResponse(status_code=500, content={\"error\": str(e)})\n"
   ]
  }
 ],
 "metadata": {
  "kernelspec": {
   "display_name": "HTX-assessment",
   "language": "python",
   "name": "python3"
  },
  "language_info": {
   "name": "python",
   "version": "3.9.20"
  }
 },
 "nbformat": 4,
 "nbformat_minor": 2
}
